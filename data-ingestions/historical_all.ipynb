{
 "cells": [
  {
   "cell_type": "code",
   "execution_count": 18,
   "id": "a2fdcf1d",
   "metadata": {},
   "outputs": [],
   "source": [
    "import numpy as np\n",
    "import pandas as pd\n",
    "import pyarrow as pa\n",
    "import pyarrow.parquet as pq\n",
    "#Import package matplotlib for visualisation/plotting\n",
    "# import matplotlib.pyplot as plt\n",
    "from sklearn.model_selection import train_test_split\n",
    "from sklearn.linear_model import LinearRegression\n",
    "from sklearn.linear_model import LogisticRegression\n",
    "from sklearn import metrics\n",
    "from sklearn.tree import export_graphviz\n",
    "# import xgboost as xgb\n",
    "# from xgboost import XGBRegressor\n",
    "import time\n",
    "# import lightgbm as lgb"
   ]
  },
  {
   "cell_type": "code",
   "execution_count": 19,
   "id": "72b65a6a",
   "metadata": {},
   "outputs": [],
   "source": [
    "df = pd.read_csv('train_data_1.csv')"
   ]
  },
  {
   "cell_type": "code",
   "execution_count": 20,
   "id": "45cd3654",
   "metadata": {},
   "outputs": [
    {
     "data": {
      "text/html": [
       "<div>\n",
       "<style scoped>\n",
       "    .dataframe tbody tr th:only-of-type {\n",
       "        vertical-align: middle;\n",
       "    }\n",
       "\n",
       "    .dataframe tbody tr th {\n",
       "        vertical-align: top;\n",
       "    }\n",
       "\n",
       "    .dataframe thead th {\n",
       "        text-align: right;\n",
       "    }\n",
       "</style>\n",
       "<table border=\"1\" class=\"dataframe\">\n",
       "  <thead>\n",
       "    <tr style=\"text-align: right;\">\n",
       "      <th></th>\n",
       "      <th>taxi_zone</th>\n",
       "      <th>datetime</th>\n",
       "      <th>passenger_count</th>\n",
       "      <th>year_month</th>\n",
       "      <th>week</th>\n",
       "      <th>hour</th>\n",
       "      <th>entertainment_and_recreation</th>\n",
       "      <th>financial_services</th>\n",
       "      <th>food_and_beverage</th>\n",
       "      <th>parking_and_automotive_services</th>\n",
       "      <th>professional_services</th>\n",
       "      <th>real_estate</th>\n",
       "      <th>retail_services</th>\n",
       "      <th>transportation</th>\n",
       "      <th>hospital</th>\n",
       "      <th>hotspots</th>\n",
       "      <th>school</th>\n",
       "      <th>total_business</th>\n",
       "      <th>holiday</th>\n",
       "    </tr>\n",
       "  </thead>\n",
       "  <tbody>\n",
       "    <tr>\n",
       "      <th>0</th>\n",
       "      <td>1</td>\n",
       "      <td>2022-01-01 00:00:00</td>\n",
       "      <td>0.0</td>\n",
       "      <td>2022-01</td>\n",
       "      <td>5</td>\n",
       "      <td>0</td>\n",
       "      <td>0.0</td>\n",
       "      <td>0.0</td>\n",
       "      <td>0.0</td>\n",
       "      <td>0.0</td>\n",
       "      <td>0.0</td>\n",
       "      <td>0.0</td>\n",
       "      <td>0.0</td>\n",
       "      <td>0.0</td>\n",
       "      <td>0.0</td>\n",
       "      <td>0.0</td>\n",
       "      <td>0.0</td>\n",
       "      <td>0.0</td>\n",
       "      <td>New Year's Day</td>\n",
       "    </tr>\n",
       "    <tr>\n",
       "      <th>1</th>\n",
       "      <td>1</td>\n",
       "      <td>2022-01-01 01:00:00</td>\n",
       "      <td>0.0</td>\n",
       "      <td>2022-01</td>\n",
       "      <td>5</td>\n",
       "      <td>1</td>\n",
       "      <td>0.0</td>\n",
       "      <td>0.0</td>\n",
       "      <td>0.0</td>\n",
       "      <td>0.0</td>\n",
       "      <td>0.0</td>\n",
       "      <td>0.0</td>\n",
       "      <td>0.0</td>\n",
       "      <td>0.0</td>\n",
       "      <td>0.0</td>\n",
       "      <td>0.0</td>\n",
       "      <td>0.0</td>\n",
       "      <td>0.0</td>\n",
       "      <td>New Year's Day</td>\n",
       "    </tr>\n",
       "    <tr>\n",
       "      <th>2</th>\n",
       "      <td>1</td>\n",
       "      <td>2022-01-01 02:00:00</td>\n",
       "      <td>2.0</td>\n",
       "      <td>2022-01</td>\n",
       "      <td>5</td>\n",
       "      <td>2</td>\n",
       "      <td>0.0</td>\n",
       "      <td>0.0</td>\n",
       "      <td>0.0</td>\n",
       "      <td>0.0</td>\n",
       "      <td>0.0</td>\n",
       "      <td>0.0</td>\n",
       "      <td>0.0</td>\n",
       "      <td>0.0</td>\n",
       "      <td>0.0</td>\n",
       "      <td>0.0</td>\n",
       "      <td>0.0</td>\n",
       "      <td>0.0</td>\n",
       "      <td>New Year's Day</td>\n",
       "    </tr>\n",
       "    <tr>\n",
       "      <th>3</th>\n",
       "      <td>1</td>\n",
       "      <td>2022-01-01 03:00:00</td>\n",
       "      <td>1.0</td>\n",
       "      <td>2022-01</td>\n",
       "      <td>5</td>\n",
       "      <td>3</td>\n",
       "      <td>0.0</td>\n",
       "      <td>0.0</td>\n",
       "      <td>0.0</td>\n",
       "      <td>0.0</td>\n",
       "      <td>0.0</td>\n",
       "      <td>0.0</td>\n",
       "      <td>0.0</td>\n",
       "      <td>0.0</td>\n",
       "      <td>0.0</td>\n",
       "      <td>0.0</td>\n",
       "      <td>0.0</td>\n",
       "      <td>0.0</td>\n",
       "      <td>New Year's Day</td>\n",
       "    </tr>\n",
       "    <tr>\n",
       "      <th>4</th>\n",
       "      <td>1</td>\n",
       "      <td>2022-01-01 04:00:00</td>\n",
       "      <td>8.0</td>\n",
       "      <td>2022-01</td>\n",
       "      <td>5</td>\n",
       "      <td>4</td>\n",
       "      <td>0.0</td>\n",
       "      <td>0.0</td>\n",
       "      <td>0.0</td>\n",
       "      <td>0.0</td>\n",
       "      <td>0.0</td>\n",
       "      <td>0.0</td>\n",
       "      <td>0.0</td>\n",
       "      <td>0.0</td>\n",
       "      <td>0.0</td>\n",
       "      <td>0.0</td>\n",
       "      <td>0.0</td>\n",
       "      <td>0.0</td>\n",
       "      <td>New Year's Day</td>\n",
       "    </tr>\n",
       "  </tbody>\n",
       "</table>\n",
       "</div>"
      ],
      "text/plain": [
       "   taxi_zone             datetime  passenger_count year_month  week  hour  \\\n",
       "0          1  2022-01-01 00:00:00              0.0    2022-01     5     0   \n",
       "1          1  2022-01-01 01:00:00              0.0    2022-01     5     1   \n",
       "2          1  2022-01-01 02:00:00              2.0    2022-01     5     2   \n",
       "3          1  2022-01-01 03:00:00              1.0    2022-01     5     3   \n",
       "4          1  2022-01-01 04:00:00              8.0    2022-01     5     4   \n",
       "\n",
       "   entertainment_and_recreation  financial_services  food_and_beverage  \\\n",
       "0                           0.0                 0.0                0.0   \n",
       "1                           0.0                 0.0                0.0   \n",
       "2                           0.0                 0.0                0.0   \n",
       "3                           0.0                 0.0                0.0   \n",
       "4                           0.0                 0.0                0.0   \n",
       "\n",
       "   parking_and_automotive_services  professional_services  real_estate  \\\n",
       "0                              0.0                    0.0          0.0   \n",
       "1                              0.0                    0.0          0.0   \n",
       "2                              0.0                    0.0          0.0   \n",
       "3                              0.0                    0.0          0.0   \n",
       "4                              0.0                    0.0          0.0   \n",
       "\n",
       "   retail_services  transportation  hospital  hotspots  school  \\\n",
       "0              0.0             0.0       0.0       0.0     0.0   \n",
       "1              0.0             0.0       0.0       0.0     0.0   \n",
       "2              0.0             0.0       0.0       0.0     0.0   \n",
       "3              0.0             0.0       0.0       0.0     0.0   \n",
       "4              0.0             0.0       0.0       0.0     0.0   \n",
       "\n",
       "   total_business         holiday  \n",
       "0             0.0  New Year's Day  \n",
       "1             0.0  New Year's Day  \n",
       "2             0.0  New Year's Day  \n",
       "3             0.0  New Year's Day  \n",
       "4             0.0  New Year's Day  "
      ]
     },
     "execution_count": 20,
     "metadata": {},
     "output_type": "execute_result"
    }
   ],
   "source": [
    "df.head(5)"
   ]
  },
  {
   "cell_type": "code",
   "execution_count": 21,
   "id": "18bfc56c",
   "metadata": {},
   "outputs": [
    {
     "data": {
      "text/plain": [
       "taxi_zone                            int64\n",
       "datetime                            object\n",
       "passenger_count                    float64\n",
       "year_month                          object\n",
       "week                                 int64\n",
       "hour                                 int64\n",
       "entertainment_and_recreation       float64\n",
       "financial_services                 float64\n",
       "food_and_beverage                  float64\n",
       "parking_and_automotive_services    float64\n",
       "professional_services              float64\n",
       "real_estate                        float64\n",
       "retail_services                    float64\n",
       "transportation                     float64\n",
       "hospital                           float64\n",
       "hotspots                           float64\n",
       "school                             float64\n",
       "total_business                     float64\n",
       "holiday                             object\n",
       "dtype: object"
      ]
     },
     "execution_count": 21,
     "metadata": {},
     "output_type": "execute_result"
    }
   ],
   "source": [
    "df.dtypes"
   ]
  },
  {
   "cell_type": "code",
   "execution_count": 28,
   "id": "c0fea46b",
   "metadata": {},
   "outputs": [
    {
     "data": {
      "text/plain": [
       "array(['2022-01-01 00:00:00', '2022-01-01 01:00:00',\n",
       "       '2022-01-01 02:00:00', ..., '2023-04-30 21:00:00',\n",
       "       '2023-04-30 22:00:00', '2023-04-30 23:00:00'], dtype=object)"
      ]
     },
     "execution_count": 28,
     "metadata": {},
     "output_type": "execute_result"
    }
   ],
   "source": [
    "df['datetime'].unique()"
   ]
  },
  {
   "cell_type": "code",
   "execution_count": 7,
   "id": "b126647a",
   "metadata": {},
   "outputs": [
    {
     "name": "stdout",
     "output_type": "stream",
     "text": [
      "47\n"
     ]
    }
   ],
   "source": [
    "print(len(\"Juneteenth National Independence Day (Observed)\"))"
   ]
  },
  {
   "cell_type": "code",
   "execution_count": 22,
   "id": "08c44fce",
   "metadata": {},
   "outputs": [],
   "source": [
    "df['impression_history']=df['passenger_count']"
   ]
  },
  {
   "cell_type": "code",
   "execution_count": 36,
   "id": "6d779f91",
   "metadata": {},
   "outputs": [],
   "source": [
    "df_draft = df[df['datetime']=='2023-04-30 22:00:00'].reset_index()"
   ]
  },
  {
   "cell_type": "code",
   "execution_count": 37,
   "id": "ad7ec572",
   "metadata": {},
   "outputs": [],
   "source": [
    "df_draft.to_json(\"draft_impression_2023-04-30-22.json\",orient=\"records\",default_handler=str)"
   ]
  },
  {
   "cell_type": "code",
   "execution_count": 38,
   "id": "f937b1b4",
   "metadata": {},
   "outputs": [],
   "source": [
    "import json\n",
    "with open('draft_impression_2023-04-30-22.json', 'r') as fd:    \n",
    "    data = json.load(fd)"
   ]
  },
  {
   "cell_type": "code",
   "execution_count": 39,
   "id": "1fd327f1",
   "metadata": {},
   "outputs": [
    {
     "name": "stdout",
     "output_type": "stream",
     "text": [
      "<class 'list'>\n"
     ]
    }
   ],
   "source": [
    "print(type(data))"
   ]
  },
  {
   "cell_type": "code",
   "execution_count": 40,
   "id": "ef9e4775",
   "metadata": {},
   "outputs": [
    {
     "name": "stdout",
     "output_type": "stream",
     "text": [
      "{'index': 11638, 'taxi_zone': 1, 'datetime': '2023-04-30 22:00:00', 'passenger_count': 1.0, 'year_month': '2023-04', 'week': 6, 'hour': 22, 'entertainment_and_recreation': 0.0, 'financial_services': 0.0, 'food_and_beverage': 0.0, 'parking_and_automotive_services': 0.0, 'professional_services': 0.0, 'real_estate': 0.0, 'retail_services': 0.0, 'transportation': 0.0, 'hospital': 0.0, 'hotspots': 0.0, 'school': 0.0, 'total_business': 0.0, 'holiday': 'No', 'impression_history': 1.0}\n"
     ]
    }
   ],
   "source": [
    "print(data[0])"
   ]
  },
  {
   "cell_type": "code",
   "execution_count": 34,
   "id": "0bce8cb2",
   "metadata": {},
   "outputs": [
    {
     "name": "stdout",
     "output_type": "stream",
     "text": [
      "1\n"
     ]
    }
   ],
   "source": [
    "for row in data:\n",
    "    print(row['taxi_zone'])\n",
    "    break"
   ]
  },
  {
   "cell_type": "code",
   "execution_count": 35,
   "id": "8716f8bd",
   "metadata": {},
   "outputs": [
    {
     "name": "stdout",
     "output_type": "stream",
     "text": [
      "263\n"
     ]
    }
   ],
   "source": [
    "print(len(data))"
   ]
  },
  {
   "cell_type": "code",
   "execution_count": null,
   "id": "ca4abecc",
   "metadata": {},
   "outputs": [],
   "source": []
  }
 ],
 "metadata": {
  "kernelspec": {
   "display_name": "Python 3 (ipykernel)",
   "language": "python",
   "name": "python3"
  },
  "language_info": {
   "codemirror_mode": {
    "name": "ipython",
    "version": 3
   },
   "file_extension": ".py",
   "mimetype": "text/x-python",
   "name": "python",
   "nbconvert_exporter": "python",
   "pygments_lexer": "ipython3",
   "version": "3.11.3"
  }
 },
 "nbformat": 4,
 "nbformat_minor": 5
}
