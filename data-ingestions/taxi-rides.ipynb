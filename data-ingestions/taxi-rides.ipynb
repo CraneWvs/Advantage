{
 "cells": [
  {
   "cell_type": "code",
   "execution_count": 5,
   "id": "4297c6c5",
   "metadata": {},
   "outputs": [],
   "source": [
    "# !pip install pandas\n",
    "# !pip install pyarrow"
   ]
  },
  {
   "cell_type": "markdown",
   "id": "c9259df5",
   "metadata": {},
   "source": [
    "# Step 1. Processing taxi data"
   ]
  },
  {
   "cell_type": "code",
   "execution_count": 1,
   "id": "dda9b765",
   "metadata": {},
   "outputs": [],
   "source": [
    "import numpy as np\n",
    "import pandas as pd\n",
    "import pyarrow as pa\n",
    "import pyarrow.parquet as pq"
   ]
  },
  {
   "cell_type": "code",
   "execution_count": 11,
   "id": "8a56d61d",
   "metadata": {},
   "outputs": [
    {
     "name": "stdout",
     "output_type": "stream",
     "text": [
      "Number of duplicate (excluding original) rows is: 23917\n"
     ]
    },
    {
     "data": {
      "text/plain": [
       "(3399549, 5)"
      ]
     },
     "execution_count": 11,
     "metadata": {},
     "output_type": "execute_result"
    }
   ],
   "source": [
    "raw_yellow_partition = pd.DataFrame()\n",
    "raw_yellow = pd.DataFrame()\n",
    "for i in range(12,13):\n",
    "    raw_yellow_partition = pq.read_table('yellow_tripdata_2022-'+str(i)+'.parquet')\n",
    "    raw_yellow_partition = raw_yellow_partition.to_pandas()[['tpep_pickup_datetime','tpep_dropoff_datetime',\n",
    "                                                'passenger_count','PULocationID','DOLocationID']]\n",
    "    print('Number of duplicate (excluding original) rows is:', raw_yellow_partition.duplicated().sum())\n",
    "    raw_yellow = pd.concat([raw_yellow,raw_yellow_partition],axis=1)\n",
    "    break\n",
    "raw_yellow.shape"
   ]
  },
  {
   "cell_type": "code",
   "execution_count": null,
   "id": "13ee54f7",
   "metadata": {},
   "outputs": [],
   "source": []
  },
  {
   "cell_type": "code",
   "execution_count": 8,
   "id": "491077d0",
   "metadata": {},
   "outputs": [
    {
     "data": {
      "text/plain": [
       "(6799098, 4)"
      ]
     },
     "execution_count": 8,
     "metadata": {},
     "output_type": "execute_result"
    }
   ],
   "source": [
    "raw_yellow_partition = pd.DataFrame()\n",
    "raw_yellow = pd.DataFrame()\n",
    "for i in range(12,13):\n",
    "    raw_yellow_partition = pq.read_table('yellow_tripdata_2022-'+str(i)+'.parquet')\n",
    "    raw_yellow_pickup = raw_yellow_partition.to_pandas()[['tpep_pickup_datetime',\n",
    "                                                'passenger_count','PULocationID']]\n",
    "    raw_yellow_pickup = raw_yellow_pickup.set_axis(['datetime', 'passenger_count', 'taxi_zone'], axis='columns')\n",
    "    raw_yellow_pickup['trip_type']='pickup'\n",
    "    raw_yellow_dropoff = raw_yellow_partition.to_pandas()[['tpep_dropoff_datetime',\n",
    "                                                'passenger_count','DOLocationID']]\n",
    "    raw_yellow_dropoff = raw_yellow_dropoff.set_axis(['datetime', 'passenger_count', 'taxi_zone'], axis='columns')\n",
    "    raw_yellow_dropoff['trip_type']='dropoff'\n",
    "\n",
    "    raw_yellow = pd.concat([raw_yellow,raw_yellow_pickup,raw_yellow_dropoff],axis=0)\n",
    "    break\n",
    "raw_yellow.shape"
   ]
  },
  {
   "cell_type": "code",
   "execution_count": 9,
   "id": "b12e2ab5",
   "metadata": {},
   "outputs": [
    {
     "name": "stdout",
     "output_type": "stream",
     "text": [
      "Number of duplicate (excluding original) rows is: 126370\n",
      "Number of duplicate rows (including original) is: 250528\n"
     ]
    }
   ],
   "source": [
    "# Print the number of duplicates, without the original rows that were duplicated\n",
    "print('Number of duplicate (excluding original) rows is:', raw_yellow.duplicated().sum())\n",
    "\n",
    "# Use \"keep=False\" to mark all duplicates as true, including the original rows that were duplicated.\n",
    "print('Number of duplicate rows (including original) is:', raw_yellow[raw_yellow.duplicated(keep=False)].shape[0])"
   ]
  },
  {
   "cell_type": "code",
   "execution_count": 4,
   "id": "d66922c4",
   "metadata": {},
   "outputs": [
    {
     "data": {
      "text/html": [
       "<div>\n",
       "<style scoped>\n",
       "    .dataframe tbody tr th:only-of-type {\n",
       "        vertical-align: middle;\n",
       "    }\n",
       "\n",
       "    .dataframe tbody tr th {\n",
       "        vertical-align: top;\n",
       "    }\n",
       "\n",
       "    .dataframe thead th {\n",
       "        text-align: right;\n",
       "    }\n",
       "</style>\n",
       "<table border=\"1\" class=\"dataframe\">\n",
       "  <thead>\n",
       "    <tr style=\"text-align: right;\">\n",
       "      <th></th>\n",
       "      <th>datetime</th>\n",
       "      <th>passenger_count</th>\n",
       "      <th>taxi_zone</th>\n",
       "      <th>trip_type</th>\n",
       "    </tr>\n",
       "  </thead>\n",
       "  <tbody>\n",
       "    <tr>\n",
       "      <th>0</th>\n",
       "      <td>2022-12-01 00:37:35</td>\n",
       "      <td>1.0</td>\n",
       "      <td>170</td>\n",
       "      <td>pickup</td>\n",
       "    </tr>\n",
       "    <tr>\n",
       "      <th>1</th>\n",
       "      <td>2022-12-01 00:34:35</td>\n",
       "      <td>0.0</td>\n",
       "      <td>138</td>\n",
       "      <td>pickup</td>\n",
       "    </tr>\n",
       "    <tr>\n",
       "      <th>2</th>\n",
       "      <td>2022-12-01 00:33:26</td>\n",
       "      <td>1.0</td>\n",
       "      <td>140</td>\n",
       "      <td>pickup</td>\n",
       "    </tr>\n",
       "    <tr>\n",
       "      <th>3</th>\n",
       "      <td>2022-12-01 00:45:51</td>\n",
       "      <td>1.0</td>\n",
       "      <td>141</td>\n",
       "      <td>pickup</td>\n",
       "    </tr>\n",
       "    <tr>\n",
       "      <th>4</th>\n",
       "      <td>2022-12-01 00:49:49</td>\n",
       "      <td>1.0</td>\n",
       "      <td>261</td>\n",
       "      <td>pickup</td>\n",
       "    </tr>\n",
       "  </tbody>\n",
       "</table>\n",
       "</div>"
      ],
      "text/plain": [
       "             datetime  passenger_count  taxi_zone trip_type\n",
       "0 2022-12-01 00:37:35              1.0        170    pickup\n",
       "1 2022-12-01 00:34:35              0.0        138    pickup\n",
       "2 2022-12-01 00:33:26              1.0        140    pickup\n",
       "3 2022-12-01 00:45:51              1.0        141    pickup\n",
       "4 2022-12-01 00:49:49              1.0        261    pickup"
      ]
     },
     "execution_count": 4,
     "metadata": {},
     "output_type": "execute_result"
    }
   ],
   "source": [
    "raw_yellow.head()"
   ]
  },
  {
   "cell_type": "code",
   "execution_count": 5,
   "id": "3305b133",
   "metadata": {},
   "outputs": [],
   "source": [
    "# Convert to hourly data\n",
    "raw_yellow[\"datetime\"] = raw_yellow[\"datetime\"].dt.round(\"H\")"
   ]
  },
  {
   "cell_type": "code",
   "execution_count": 6,
   "id": "b231fe34",
   "metadata": {},
   "outputs": [
    {
     "data": {
      "text/html": [
       "<div>\n",
       "<style scoped>\n",
       "    .dataframe tbody tr th:only-of-type {\n",
       "        vertical-align: middle;\n",
       "    }\n",
       "\n",
       "    .dataframe tbody tr th {\n",
       "        vertical-align: top;\n",
       "    }\n",
       "\n",
       "    .dataframe thead th {\n",
       "        text-align: right;\n",
       "    }\n",
       "</style>\n",
       "<table border=\"1\" class=\"dataframe\">\n",
       "  <thead>\n",
       "    <tr style=\"text-align: right;\">\n",
       "      <th></th>\n",
       "      <th>count</th>\n",
       "      <th>mean</th>\n",
       "      <th>min</th>\n",
       "      <th>25%</th>\n",
       "      <th>50%</th>\n",
       "      <th>75%</th>\n",
       "      <th>max</th>\n",
       "      <th>std</th>\n",
       "    </tr>\n",
       "  </thead>\n",
       "  <tbody>\n",
       "    <tr>\n",
       "      <th>datetime</th>\n",
       "      <td>6799098</td>\n",
       "      <td>2022-12-15 07:40:49.740596736</td>\n",
       "      <td>2022-11-30 19:00:00</td>\n",
       "      <td>2022-12-07 22:00:00</td>\n",
       "      <td>2022-12-14 20:00:00</td>\n",
       "      <td>2022-12-21 22:00:00</td>\n",
       "      <td>2023-01-02 00:00:00</td>\n",
       "      <td>NaN</td>\n",
       "    </tr>\n",
       "    <tr>\n",
       "      <th>passenger_count</th>\n",
       "      <td>6546172.0</td>\n",
       "      <td>1.419582</td>\n",
       "      <td>0.0</td>\n",
       "      <td>1.0</td>\n",
       "      <td>1.0</td>\n",
       "      <td>2.0</td>\n",
       "      <td>9.0</td>\n",
       "      <td>0.951364</td>\n",
       "    </tr>\n",
       "    <tr>\n",
       "      <th>taxi_zone</th>\n",
       "      <td>6799098.0</td>\n",
       "      <td>164.118078</td>\n",
       "      <td>1.0</td>\n",
       "      <td>125.0</td>\n",
       "      <td>162.0</td>\n",
       "      <td>234.0</td>\n",
       "      <td>265.0</td>\n",
       "      <td>67.768088</td>\n",
       "    </tr>\n",
       "  </tbody>\n",
       "</table>\n",
       "</div>"
      ],
      "text/plain": [
       "                     count                           mean  \\\n",
       "datetime           6799098  2022-12-15 07:40:49.740596736   \n",
       "passenger_count  6546172.0                       1.419582   \n",
       "taxi_zone        6799098.0                     164.118078   \n",
       "\n",
       "                                 min                  25%  \\\n",
       "datetime         2022-11-30 19:00:00  2022-12-07 22:00:00   \n",
       "passenger_count                  0.0                  1.0   \n",
       "taxi_zone                        1.0                125.0   \n",
       "\n",
       "                                 50%                  75%  \\\n",
       "datetime         2022-12-14 20:00:00  2022-12-21 22:00:00   \n",
       "passenger_count                  1.0                  2.0   \n",
       "taxi_zone                      162.0                234.0   \n",
       "\n",
       "                                 max        std  \n",
       "datetime         2023-01-02 00:00:00        NaN  \n",
       "passenger_count                  9.0   0.951364  \n",
       "taxi_zone                      265.0  67.768088  "
      ]
     },
     "execution_count": 6,
     "metadata": {},
     "output_type": "execute_result"
    }
   ],
   "source": [
    "raw_yellow.describe().T"
   ]
  },
  {
   "cell_type": "code",
   "execution_count": 65,
   "id": "63e5987e",
   "metadata": {},
   "outputs": [],
   "source": [
    "passenger = pd.pivot_table(raw_yellow, index=['datetime','taxi_zone'], values='passenger_count', aggfunc=pd.Series.sum)"
   ]
  },
  {
   "cell_type": "code",
   "execution_count": 67,
   "id": "819386a1",
   "metadata": {},
   "outputs": [
    {
     "data": {
      "text/html": [
       "<div>\n",
       "<style scoped>\n",
       "    .dataframe tbody tr th:only-of-type {\n",
       "        vertical-align: middle;\n",
       "    }\n",
       "\n",
       "    .dataframe tbody tr th {\n",
       "        vertical-align: top;\n",
       "    }\n",
       "\n",
       "    .dataframe thead th {\n",
       "        text-align: right;\n",
       "    }\n",
       "</style>\n",
       "<table border=\"1\" class=\"dataframe\">\n",
       "  <thead>\n",
       "    <tr style=\"text-align: right;\">\n",
       "      <th></th>\n",
       "      <th></th>\n",
       "      <th>passenger_count</th>\n",
       "    </tr>\n",
       "    <tr>\n",
       "      <th>datetime</th>\n",
       "      <th>taxi_zone</th>\n",
       "      <th></th>\n",
       "    </tr>\n",
       "  </thead>\n",
       "  <tbody>\n",
       "    <tr>\n",
       "      <th>2022-11-30 19:00:00</th>\n",
       "      <th>132</th>\n",
       "      <td>1.0</td>\n",
       "    </tr>\n",
       "    <tr>\n",
       "      <th rowspan=\"4\" valign=\"top\">2022-11-30 20:00:00</th>\n",
       "      <th>100</th>\n",
       "      <td>1.0</td>\n",
       "    </tr>\n",
       "    <tr>\n",
       "      <th>107</th>\n",
       "      <td>1.0</td>\n",
       "    </tr>\n",
       "    <tr>\n",
       "      <th>132</th>\n",
       "      <td>1.0</td>\n",
       "    </tr>\n",
       "    <tr>\n",
       "      <th>148</th>\n",
       "      <td>1.0</td>\n",
       "    </tr>\n",
       "  </tbody>\n",
       "</table>\n",
       "</div>"
      ],
      "text/plain": [
       "                               passenger_count\n",
       "datetime            taxi_zone                 \n",
       "2022-11-30 19:00:00 132                    1.0\n",
       "2022-11-30 20:00:00 100                    1.0\n",
       "                    107                    1.0\n",
       "                    132                    1.0\n",
       "                    148                    1.0"
      ]
     },
     "execution_count": 67,
     "metadata": {},
     "output_type": "execute_result"
    }
   ],
   "source": [
    "passenger.head()"
   ]
  },
  {
   "cell_type": "markdown",
   "id": "4f5144d2",
   "metadata": {},
   "source": [
    "# Step 2. Writing data into postgresql"
   ]
  },
  {
   "cell_type": "code",
   "execution_count": null,
   "id": "9c8b2f94",
   "metadata": {},
   "outputs": [],
   "source": []
  }
 ],
 "metadata": {
  "kernelspec": {
   "display_name": "Python 3 (ipykernel)",
   "language": "python",
   "name": "python3"
  },
  "language_info": {
   "codemirror_mode": {
    "name": "ipython",
    "version": 3
   },
   "file_extension": ".py",
   "mimetype": "text/x-python",
   "name": "python",
   "nbconvert_exporter": "python",
   "pygments_lexer": "ipython3",
   "version": "3.11.3"
  }
 },
 "nbformat": 4,
 "nbformat_minor": 5
}
